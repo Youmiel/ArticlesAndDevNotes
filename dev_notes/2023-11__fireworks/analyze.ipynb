{
 "cells": [
  {
   "cell_type": "code",
   "execution_count": 36,
   "metadata": {},
   "outputs": [],
   "source": [
    "LOG_PATH = 'logs/2023-11-07.log'"
   ]
  },
  {
   "cell_type": "code",
   "execution_count": 37,
   "metadata": {},
   "outputs": [],
   "source": [
    "import re\n",
    "import json\n",
    "\n",
    "TIME_PATTERN = re.compile('Time: ([0-9]+)')\n"
   ]
  },
  {
   "cell_type": "code",
   "execution_count": 66,
   "metadata": {},
   "outputs": [
    {
     "data": {
      "text/plain": [
       "{20: 425, 40: 7}"
      ]
     },
     "execution_count": 66,
     "metadata": {},
     "output_type": "execute_result"
    }
   ],
   "source": [
    "interval_dict = {}\n",
    "last_timestamp = -1\n",
    "\n",
    "with open(LOG_PATH, 'r') as log:\n",
    "    for line in log:\n",
    "        find_iter = TIME_PATTERN.finditer(line)\n",
    "        for item in find_iter:\n",
    "            groups = item.groups()\n",
    "            if last_timestamp < 0:\n",
    "                last_timestamp = int(groups[0])\n",
    "            else:\n",
    "                current_timestamp = int(groups[0])\n",
    "                interval = current_timestamp - last_timestamp\n",
    "                last_timestamp = current_timestamp\n",
    "                interval_dict[interval] = interval_dict.get(interval, 0) + 1\n",
    "\n",
    "interval_dict"
   ]
  }
 ],
 "metadata": {
  "kernelspec": {
   "display_name": "Python 3",
   "language": "python",
   "name": "python3"
  },
  "language_info": {
   "codemirror_mode": {
    "name": "ipython",
    "version": 3
   },
   "file_extension": ".py",
   "mimetype": "text/x-python",
   "name": "python",
   "nbconvert_exporter": "python",
   "pygments_lexer": "ipython3",
   "version": "3.9.1"
  },
  "orig_nbformat": 4
 },
 "nbformat": 4,
 "nbformat_minor": 2
}
