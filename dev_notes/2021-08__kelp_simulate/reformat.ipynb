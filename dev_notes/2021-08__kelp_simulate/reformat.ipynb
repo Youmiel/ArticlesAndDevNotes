{
 "cells": [
  {
   "cell_type": "code",
   "execution_count": 1,
   "source": [
    "import csv\r\n",
    "import matplotlib.pyplot as plt\r\n",
    "import matplotlib.axes\r\n",
    "import numpy\r\n",
    "import math"
   ],
   "outputs": [],
   "metadata": {}
  },
  {
   "cell_type": "markdown",
   "source": [
    "- empty_tick=5[harvest_period,height_limit]1629940583.csv\r\n",
    "- empty_tick=5[harvest_period,height_limit]output_by_ishland.csv\r\n",
    "- empty_tick=5[harvest_period,height_limit]output_by_ishland_reordered.csv\r\n",
    "- empty_tick=5[harvest_period,height_limit]Thu Aug 26 08.15.01 2021.csv"
   ],
   "metadata": {}
  },
  {
   "cell_type": "code",
   "execution_count": 75,
   "source": [
    "path = './empty_tick=5[harvest_period,height_limit]output_by_ishland_reordered'"
   ],
   "outputs": [],
   "metadata": {}
  },
  {
   "cell_type": "code",
   "execution_count": 76,
   "source": [
    "path = './empty_tick=5[harvest_period,height_limit]1629959120'"
   ],
   "outputs": [],
   "metadata": {}
  },
  {
   "cell_type": "code",
   "execution_count": 77,
   "source": [
    "\r\n",
    "def read_csv(path) -> dict:\r\n",
    "    re = {\r\n",
    "        'first_label' : '',\r\n",
    "        'second_label' : '',\r\n",
    "        'first_axis' : [],\r\n",
    "        'second_axis' : [],\r\n",
    "        'values' : {}\r\n",
    "    }  \r\n",
    "    with open(path, 'r') as csvfile:\r\n",
    "        reader = csv.reader(csvfile)\r\n",
    "        first_row = next(reader)\r\n",
    "        [re['second_label'], re['first_label']] = first_row[0].split('|')\r\n",
    "        re['first_axis'] = first_row[1:]\r\n",
    "        for row in reader:\r\n",
    "            re['second_axis'].append(row[0])\r\n",
    "            re['values'][row[0]] = list(float(str) for str in row[1:])\r\n",
    "    return re\r\n",
    "\r\n",
    "\r\n",
    "result = read_csv(path)"
   ],
   "outputs": [],
   "metadata": {}
  },
  {
   "cell_type": "code",
   "execution_count": 3,
   "source": [
    "\r\n",
    "def read_csv_to_list(path) -> list:\r\n",
    "    re = []  \r\n",
    "    with open(path, 'r') as csvfile:\r\n",
    "        reader = csv.reader(csvfile)\r\n",
    "        for line in reader:\r\n",
    "            re.append(line)\r\n",
    "    return re\r\n",
    "\r\n",
    "result = read_csv(path)"
   ],
   "outputs": [
    {
     "output_type": "error",
     "ename": "NameError",
     "evalue": "name 'read_csv' is not defined",
     "traceback": [
      "\u001b[1;31m---------------------------------------------------------------------------\u001b[0m",
      "\u001b[1;31mNameError\u001b[0m                                 Traceback (most recent call last)",
      "\u001b[1;32m~\\AppData\\Local\\Temp/ipykernel_28028/2717831200.py\u001b[0m in \u001b[0;36m<module>\u001b[1;34m\u001b[0m\n\u001b[0;32m      7\u001b[0m     \u001b[1;32mreturn\u001b[0m \u001b[0mre\u001b[0m\u001b[1;33m\u001b[0m\u001b[1;33m\u001b[0m\u001b[0m\n\u001b[0;32m      8\u001b[0m \u001b[1;33m\u001b[0m\u001b[0m\n\u001b[1;32m----> 9\u001b[1;33m \u001b[0mresult\u001b[0m \u001b[1;33m=\u001b[0m \u001b[0mread_csv\u001b[0m\u001b[1;33m(\u001b[0m\u001b[0mpath\u001b[0m\u001b[1;33m)\u001b[0m\u001b[1;33m\u001b[0m\u001b[1;33m\u001b[0m\u001b[0m\n\u001b[0m",
      "\u001b[1;31mNameError\u001b[0m: name 'read_csv' is not defined"
     ]
    }
   ],
   "metadata": {}
  },
  {
   "cell_type": "code",
   "execution_count": 9,
   "source": [
    "path = './output@2021-08-28_00.15.csv'"
   ],
   "outputs": [],
   "metadata": {}
  },
  {
   "cell_type": "code",
   "execution_count": 2,
   "source": [
    "path = './output@2021-08-28_11.47'"
   ],
   "outputs": [],
   "metadata": {}
  },
  {
   "cell_type": "code",
   "execution_count": 2,
   "source": [
    "path = './output@2021-08-29_19.09'"
   ],
   "outputs": [],
   "metadata": {}
  },
  {
   "cell_type": "code",
   "execution_count": 2,
   "source": [
    "path = './output@2021-08-31_18.48'"
   ],
   "outputs": [],
   "metadata": {}
  },
  {
   "cell_type": "code",
   "execution_count": 3,
   "source": [
    "\r\n",
    "def read_csv_to_dict(path) -> dict:\r\n",
    "    re = {}\r\n",
    "    with open(path, 'r', newline='') as csvfile:\r\n",
    "        reader = csv.DictReader(csvfile)\r\n",
    "        fields = reader.fieldnames\r\n",
    "        for key in fields:\r\n",
    "            re[key] = []\r\n",
    "        for info in reader:\r\n",
    "            for key in fields:\r\n",
    "                re[key].append(info[key])\r\n",
    "        re['info_count'] = reader.line_num -1\r\n",
    "    return re\r\n",
    "\r\n",
    "result = read_csv_to_dict(path + '.csv')\r\n",
    "print(result['info_count'])"
   ],
   "outputs": [
    {
     "output_type": "stream",
     "name": "stdout",
     "text": [
      "180000\n"
     ]
    }
   ],
   "metadata": {}
  },
  {
   "cell_type": "code",
   "execution_count": 4,
   "source": [
    "# reorder\r\n",
    "# harvest_period | height_limit\r\n",
    "# height_limit | harvest_period \r\n",
    "\r\n",
    "def reformat_2d(info: dict, row_key: str, col_key: str, val_key: str) -> dict:\r\n",
    "    re = {\r\n",
    "        'row_keys': [],\r\n",
    "        'col_keys': [],\r\n",
    "        'vals': []\r\n",
    "    }\r\n",
    "    for i in range(info['info_count']):\r\n",
    "        if info[row_key][i] not in re['row_keys']:\r\n",
    "            re['row_keys'].append(info[row_key][i])\r\n",
    "        if info[col_key][i] not in re['col_keys']:\r\n",
    "            re['col_keys'].append(info[col_key][i])\r\n",
    "    for i in range(len(re['row_keys'])):\r\n",
    "        re['vals'].append(list('' for j in range(len(re['col_keys']))))\r\n",
    "    for i in range(info['info_count']):\r\n",
    "        re['vals'][index(info[row_key][i], re['row_keys'])][index(info[col_key][i], re['col_keys'])] = info[val_key][i]\r\n",
    "    return re\r\n",
    "    \r\n",
    "def index(item, t):\r\n",
    "    for i in range(len(t)):\r\n",
    "        if item == t[i]: return i\r\n",
    "    return -1\r\n",
    "\r\n",
    "reordered = reformat_2d(result, 'Height limit ', 'Harvest period (s) ', 'Unit / hour ')"
   ],
   "outputs": [],
   "metadata": {}
  },
  {
   "cell_type": "code",
   "execution_count": 5,
   "source": [
    "def output_2d_csv(path: str, info: dict, row_key: str, col_key: str):\r\n",
    "    print(info.keys())\r\n",
    "    #print(info[list(info.keys())[0]])\r\n",
    "    with open(path, 'w', newline='') as csvfile:\r\n",
    "        writer = csv.writer(csvfile)\r\n",
    "        writer.writerow([row_key + '| ' + col_key] + info['col_keys'])\r\n",
    "        for i in range(len(info['row_keys'])):\r\n",
    "            writer.writerow([info['row_keys'][i]] + info['vals'][i])\r\n",
    "\r\n",
    "output_2d_csv(path + '_reordered.csv', reordered, 'Height limit ', 'Harvest period (s) ')"
   ],
   "outputs": [
    {
     "output_type": "stream",
     "name": "stdout",
     "text": [
      "dict_keys(['row_keys', 'col_keys', 'vals'])\n"
     ]
    }
   ],
   "metadata": {}
  }
 ],
 "metadata": {
  "orig_nbformat": 4,
  "language_info": {
   "name": "python",
   "version": "3.9.1",
   "mimetype": "text/x-python",
   "codemirror_mode": {
    "name": "ipython",
    "version": 3
   },
   "pygments_lexer": "ipython3",
   "nbconvert_exporter": "python",
   "file_extension": ".py"
  },
  "kernelspec": {
   "name": "python3",
   "display_name": "Python 3.9.1 64-bit"
  },
  "interpreter": {
   "hash": "5a56ccf670e910758e2c60ee81a01d862c5ed24b83929a841595ca2533de75df"
  }
 },
 "nbformat": 4,
 "nbformat_minor": 2
}